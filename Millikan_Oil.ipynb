{
 "cells": [
  {
   "cell_type": "code",
   "execution_count": null,
   "metadata": {},
   "outputs": [],
   "source": [
    "import numpy as np\n",
    "import scipy.constants as cst\n",
    "b=8.2e-3\n",
    "g=9.8\n",
    "rho=886\n",
    "P=1.01e5\n",
    "fps=16.67\n",
    "equationstr=['(4*pi/3)*(sqrt((b/(2*P))**2+9*n*f/(2*h*g))-b/(2*P))**3*h*g*d*(f+r)/(V*f)',\n",
    "'(pi*d*(2*P*sqrt((9*n*f)/(2*g*h)+b**2/(4*P**2))-b)**2*(2*P*b*g*h*r*sqrt((9*n*f)/(2*g*h)+b**2/(4*P**2))+27*P**2*n*f**2+9*P**2*n*r*f-b**2*g*h*r))/(12*P**4*V*f**2*sqrt((9*n*f)/(2*g*h)+b**2/(4*P**2)))'\n",
    "\n",
    "]\n",
    "def findcharge(vf,vr,V,n,d=7.65e-3):\n",
    "    result=(4*np.pi/3)*(np.sqrt((b/(2*P))**2+9*n*vf/(2*rho*g))-b/(2*P))**3*rho*g*d*(vf+vr)/(V*vf)\n",
    "    return result\n",
    "\n",
    "def qdf(vf,vr,V,n,d=7.65e-3):\n",
    "    return (np.pi*d*(2*P*np.sqrt((9*n*vf)/(2*g*rho)+b**2/(4*P**2))-b)**2*(2*P*b*g*rho*vr*np.sqrt((9*n*vf)/(2*g*rho)+b**2/(4*P**2))+27*P**2*n*vf**2+9*P**2*n*vr*vf-b**2*g*rho*vr))/(12*P**4*V*vf**2*np.sqrt((9*n*vf)/(2*g*rho)+b**2/(4*P**2)))"
   ]
  },
  {
   "cell_type": "code",
   "execution_count": 6,
   "metadata": {},
   "outputs": [
    {
     "name": "stdout",
     "output_type": "stream",
     "text": [
      "3.1702066968097504e-19\n",
      "1.9786873866054338\n"
     ]
    }
   ],
   "source": [
    "d=0.5e-3\n",
    "fdf=577-392\n",
    "Cvf=d/(fdf/fps)\n",
    "fdr=1495-1371\n",
    "Cvr=d/(fdr/fps)\n",
    "res=findcharge(Cvf,Cvr,508,1.832e-5)\n",
    "print(res)\n",
    "print(res/cst.e)\n",
    "\n"
   ]
  }
 ],
 "metadata": {
  "kernelspec": {
   "display_name": "Python 3.10.0 64-bit",
   "language": "python",
   "name": "python3"
  },
  "language_info": {
   "codemirror_mode": {
    "name": "ipython",
    "version": 3
   },
   "file_extension": ".py",
   "mimetype": "text/x-python",
   "name": "python",
   "nbconvert_exporter": "python",
   "pygments_lexer": "ipython3",
   "version": "3.10.0"
  },
  "orig_nbformat": 4,
  "vscode": {
   "interpreter": {
    "hash": "2469a70536e4d2335a2ea8907942d0699c37342a371ac185bdb5b0aa6f073890"
   }
  }
 },
 "nbformat": 4,
 "nbformat_minor": 2
}
